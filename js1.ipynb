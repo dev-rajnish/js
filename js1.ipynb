{
  "cell_type": "code",
  "source": [
    "a = 10\n",
    "print(a)\n"
  ]
}